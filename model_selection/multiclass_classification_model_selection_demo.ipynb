{
 "cells": [
  {
   "cell_type": "markdown",
   "id": "19b3ebe4",
   "metadata": {},
   "source": [
    "## Demonstration of Model Selection in Multiclass Classification\n",
    "\n",
    "This jupyter notebook is part of a [collection of notebooks](../index.ipynb) on various topics of Data-Driven Signal Processing. Please direct questions and suggestions to [Sascha.Spors@uni-rostock.de](mailto:Sascha.Spors@uni-rostock.de)."
   ]
  },
  {
   "cell_type": "code",
   "execution_count": 1,
   "id": "ed3df37e",
   "metadata": {},
   "outputs": [],
   "source": [
    "import numpy as np\n",
    "import matplotlib.pyplot as plt\n",
    "\n",
    "from sklearn.datasets import make_classification\n",
    "from sklearn.model_selection import train_test_split\n",
    "\n",
    "from tensorflow.keras.utils import to_categorical\n",
    "from tensorflow.keras.layers import Input, Dense, Dropout\n",
    "from tensorflow.keras import Sequential\n",
    "from tensorflow.keras.optimizers import Adam\n",
    "from tensorflow.keras.callbacks import EarlyStopping\n",
    "\n",
    "from keras_tuner import HyperParameters, RandomSearch"
   ]
  },
  {
   "cell_type": "code",
   "execution_count": 2,
   "id": "8e2c417f",
   "metadata": {},
   "outputs": [],
   "source": [
    "N = 2000  # total number of examples\n",
    "C = 3  # number of classes\n",
    "\n",
    "X, Y = make_classification(n_samples=N,\n",
    "                           n_classes=C,\n",
    "                           n_clusters_per_class=1,\n",
    "                           n_features=2,\n",
    "                           n_redundant=0,\n",
    "                           n_informative=2,\n",
    "                           random_state=42)\n",
    "\n",
    "Y1h = to_categorical(Y, C)\n",
    "\n",
    "X_train, X_test, Y_train, Y_test = train_test_split(X, Y1h, test_size=0.2)"
   ]
  },
  {
   "cell_type": "code",
   "execution_count": 3,
   "id": "59ae83f9",
   "metadata": {},
   "outputs": [],
   "source": [
    "def build_model(hp):\n",
    "    \n",
    "    model = Sequential()\n",
    "    model.add(Input(shape=(2,)))\n",
    "    \n",
    "    for i in range(hp.Int(\"num_layers\", 1, 3)):\n",
    "        model.add(Dense(units=hp.Int(f\"units_l{i}\", min_value=16, max_value=128, step=16),\n",
    "                        activation=hp.Choice(\"activation\", [\"relu\", \"tanh\"])))\n",
    "        \n",
    "        if hp.Boolean(\"dropout\"):\n",
    "            model.add(Dropout(rate=0.25))\n",
    "    \n",
    "    model.add(Dense(C, activation=\"softmax\"))\n",
    "    \n",
    "    learning_rate = hp.Float(\"lr\", min_value=1e-4, max_value=1e-2, sampling=\"log\")\n",
    "    model.compile(optimizer=Adam(learning_rate=learning_rate), loss=\"categorical_crossentropy\", metrics=[\"accuracy\"])\n",
    "    \n",
    "    return model"
   ]
  },
  {
   "cell_type": "code",
   "execution_count": 4,
   "id": "0d2c07b6",
   "metadata": {},
   "outputs": [
    {
     "name": "stderr",
     "output_type": "stream",
     "text": [
      "2022-01-27 17:59:10.778137: I tensorflow/core/platform/cpu_feature_guard.cc:151] This TensorFlow binary is optimized with oneAPI Deep Neural Network Library (oneDNN) to use the following CPU instructions in performance-critical operations:  AVX2 FMA\n",
      "To enable them in other operations, rebuild TensorFlow with the appropriate compiler flags.\n"
     ]
    }
   ],
   "source": [
    "build_model(HyperParameters())\n",
    "\n",
    "tuner = RandomSearch(\n",
    "    hypermodel=build_model,\n",
    "    objective=\"val_accuracy\",\n",
    "    max_trials=20,\n",
    "    executions_per_trial=2,\n",
    "    overwrite=True,\n",
    "    directory=\"tuner_results\",\n",
    "    project_name=\"multiclass\",\n",
    ")"
   ]
  },
  {
   "cell_type": "code",
   "execution_count": 5,
   "id": "ebae3f40",
   "metadata": {},
   "outputs": [
    {
     "name": "stdout",
     "output_type": "stream",
     "text": [
      "Search space summary\n",
      "Default search space size: 5\n",
      "num_layers (Int)\n",
      "{'default': None, 'conditions': [], 'min_value': 1, 'max_value': 3, 'step': 1, 'sampling': None}\n",
      "units_l0 (Int)\n",
      "{'default': None, 'conditions': [], 'min_value': 16, 'max_value': 128, 'step': 16, 'sampling': None}\n",
      "activation (Choice)\n",
      "{'default': 'relu', 'conditions': [], 'values': ['relu', 'tanh'], 'ordered': False}\n",
      "dropout (Boolean)\n",
      "{'default': False, 'conditions': []}\n",
      "lr (Float)\n",
      "{'default': 0.0001, 'conditions': [], 'min_value': 0.0001, 'max_value': 0.01, 'step': None, 'sampling': 'log'}\n"
     ]
    }
   ],
   "source": [
    "tuner.search_space_summary()"
   ]
  },
  {
   "cell_type": "code",
   "execution_count": 6,
   "id": "8c11a6e6",
   "metadata": {},
   "outputs": [
    {
     "name": "stdout",
     "output_type": "stream",
     "text": [
      "Trial 20 Complete [00h 00m 02s]\n",
      "val_accuracy: 0.9399999976158142\n",
      "\n",
      "Best val_accuracy So Far: 0.9399999976158142\n",
      "Total elapsed time: 00h 01m 02s\n",
      "INFO:tensorflow:Oracle triggered exit\n"
     ]
    }
   ],
   "source": [
    "stop_early = EarlyStopping(monitor='val_accuracy', patience=5)\n",
    "\n",
    "tuner.search(X_train, Y_train, epochs=100, validation_data=(X_test, Y_test), callbacks=[stop_early])"
   ]
  },
  {
   "cell_type": "code",
   "execution_count": 8,
   "id": "e72ad3e9",
   "metadata": {},
   "outputs": [
    {
     "name": "stdout",
     "output_type": "stream",
     "text": [
      "Results summary\n",
      "Results in tuner_results/multiclass\n",
      "Showing 10 best trials\n",
      "Objective(name='val_accuracy', direction='max')\n",
      "Trial summary\n",
      "Hyperparameters:\n",
      "num_layers: 3\n",
      "units_l0: 32\n",
      "activation: relu\n",
      "dropout: False\n",
      "lr: 0.008690166278024544\n",
      "units_l1: 96\n",
      "units_l2: 80\n",
      "Score: 0.9399999976158142\n",
      "Trial summary\n",
      "Hyperparameters:\n",
      "num_layers: 2\n",
      "units_l0: 128\n",
      "activation: relu\n",
      "dropout: False\n",
      "lr: 0.0042198127756051884\n",
      "units_l1: 112\n",
      "units_l2: 80\n",
      "Score: 0.9387499988079071\n",
      "Trial summary\n",
      "Hyperparameters:\n",
      "num_layers: 1\n",
      "units_l0: 128\n",
      "activation: relu\n",
      "dropout: True\n",
      "lr: 0.005553415568099142\n",
      "units_l1: 80\n",
      "units_l2: 64\n",
      "Score: 0.9387499988079071\n",
      "Trial summary\n",
      "Hyperparameters:\n",
      "num_layers: 3\n",
      "units_l0: 96\n",
      "activation: relu\n",
      "dropout: False\n",
      "lr: 0.0009031111745904648\n",
      "units_l1: 80\n",
      "units_l2: 112\n",
      "Score: 0.9387499988079071\n",
      "Trial summary\n",
      "Hyperparameters:\n",
      "num_layers: 3\n",
      "units_l0: 128\n",
      "activation: tanh\n",
      "dropout: False\n",
      "lr: 0.0026490704262329893\n",
      "units_l1: 32\n",
      "units_l2: 32\n",
      "Score: 0.9350000023841858\n",
      "Trial summary\n",
      "Hyperparameters:\n",
      "num_layers: 2\n",
      "units_l0: 80\n",
      "activation: tanh\n",
      "dropout: False\n",
      "lr: 0.0029973497945481892\n",
      "units_l1: 96\n",
      "units_l2: 16\n",
      "Score: 0.925000011920929\n",
      "Trial summary\n",
      "Hyperparameters:\n",
      "num_layers: 1\n",
      "units_l0: 48\n",
      "activation: relu\n",
      "dropout: False\n",
      "lr: 0.001007391702590175\n",
      "Score: 0.9237500131130219\n",
      "Trial summary\n",
      "Hyperparameters:\n",
      "num_layers: 3\n",
      "units_l0: 16\n",
      "activation: relu\n",
      "dropout: True\n",
      "lr: 0.0009867496902904826\n",
      "units_l1: 32\n",
      "units_l2: 64\n",
      "Score: 0.9175000190734863\n",
      "Trial summary\n",
      "Hyperparameters:\n",
      "num_layers: 2\n",
      "units_l0: 16\n",
      "activation: relu\n",
      "dropout: True\n",
      "lr: 0.00039212961505715734\n",
      "units_l1: 80\n",
      "units_l2: 80\n",
      "Score: 0.9162500202655792\n",
      "Trial summary\n",
      "Hyperparameters:\n",
      "num_layers: 3\n",
      "units_l0: 32\n",
      "activation: tanh\n",
      "dropout: True\n",
      "lr: 0.001480057884012148\n",
      "units_l1: 16\n",
      "units_l2: 16\n",
      "Score: 0.9150000214576721\n"
     ]
    }
   ],
   "source": [
    "tuner.results_summary()"
   ]
  },
  {
   "cell_type": "code",
   "execution_count": 9,
   "id": "252396b6",
   "metadata": {},
   "outputs": [
    {
     "name": "stdout",
     "output_type": "stream",
     "text": [
      "Model: \"sequential\"\n",
      "_________________________________________________________________\n",
      " Layer (type)                Output Shape              Param #   \n",
      "=================================================================\n",
      " dense (Dense)               (None, 32)                96        \n",
      "                                                                 \n",
      " dense_1 (Dense)             (None, 96)                3168      \n",
      "                                                                 \n",
      " dense_2 (Dense)             (None, 80)                7760      \n",
      "                                                                 \n",
      " dense_3 (Dense)             (None, 3)                 243       \n",
      "                                                                 \n",
      "=================================================================\n",
      "Total params: 11,267\n",
      "Trainable params: 11,267\n",
      "Non-trainable params: 0\n",
      "_________________________________________________________________\n"
     ]
    }
   ],
   "source": [
    "models = tuner.get_best_models(num_models=2)\n",
    "best_model = models[0]\n",
    "\n",
    "best_model.build()\n",
    "best_model.summary()"
   ]
  },
  {
   "cell_type": "markdown",
   "id": "0d22ab5a",
   "metadata": {},
   "source": [
    "**Copyright**\n",
    "\n",
    "This notebook is provided as [Open Educational Resource](https://de.wikipedia.org/wiki/Open_Educational_Resources).\n",
    "The text is licensed under [Creative Commons Attribution 4.0](https://creativecommons.org/licenses/by/4.0/)\n",
    ", the code of the IPython examples under the [MIT license](https://opensource.org/licenses/MIT). Please attribute the work as follows: Sascha Spors, Data driven audio signal processing - Lecture supplementals."
   ]
  }
 ],
 "metadata": {
  "kernelspec": {
   "display_name": "Python 3 (ipykernel)",
   "language": "python",
   "name": "python3"
  },
  "language_info": {
   "codemirror_mode": {
    "name": "ipython",
    "version": 3
   },
   "file_extension": ".py",
   "mimetype": "text/x-python",
   "name": "python",
   "nbconvert_exporter": "python",
   "pygments_lexer": "ipython3",
   "version": "3.9.7"
  }
 },
 "nbformat": 4,
 "nbformat_minor": 5
}
