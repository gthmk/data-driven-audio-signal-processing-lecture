{
 "cells": [
  {
   "cell_type": "markdown",
   "id": "6fdbe1e3",
   "metadata": {},
   "source": [
    "# Data Driven Audio Signal Processing\n",
    "\n",
    "This collection of jupyter notebooks constitute supplementary materials to the master's course [Selected Topics in Audio Signal Processing](https://www.int.uni-rostock.de/Selected-Topics-in-Audio-Signa.49.0.html) given by [Sascha Spors](https://www.int.uni-rostock.de/Staff-Info.23+B6JmNIYXNoPWE5OTg2NmM4YzE5YzRlOWIyOTA4NTdiNTI1Mzc0YWVjJnR4X2pwc3RhZmZfcGkxJTVCc2hvd1VpZCU1RD0xMTE_.0.html) at the University of Rostock, Germany. The sources of the notebooks, as well as installation and usage instructions can be found on [GitHub](https://github.com/spatialaudio/data-driven-audio-signal-processing-lecture)."
   ]
  },
  {
   "cell_type": "markdown",
   "id": "f00f86f4",
   "metadata": {},
   "source": [
    "### 1. Introduction\n",
    "\n",
    "### 2. Problem Definition\n",
    "\n",
    "### 3. Preparation of Audio Signals\n",
    "\n",
    "* [Exemplary quality checks for audio signals](data_preparation/quality_checks.ipynb)\n",
    "\n",
    "### 4. Audio Features and Augmentation"
   ]
  },
  {
   "cell_type": "markdown",
   "id": "3bb8cd59",
   "metadata": {},
   "source": [
    "**Copyright**\n",
    "\n",
    "The contents are provided as [Open Educational Resource](https://de.wikipedia.org/wiki/Open_Educational_Resources).\n",
    "The text is licensed under [Creative Commons Attribution 4.0](https://creativecommons.org/licenses/by/4.0/)\n",
    ", the code of the IPython examples under the [MIT license](https://opensource.org/licenses/MIT).\n",
    "Feel free to use the entire collection, parts or even single notebooks for your\n",
    "own purposes."
   ]
  }
 ],
 "metadata": {
  "kernelspec": {
   "display_name": "Python 3 (ipykernel)",
   "language": "python",
   "name": "python3"
  },
  "language_info": {
   "codemirror_mode": {
    "name": "ipython",
    "version": 3
   },
   "file_extension": ".py",
   "mimetype": "text/x-python",
   "name": "python",
   "nbconvert_exporter": "python",
   "pygments_lexer": "ipython3",
   "version": "3.7.11"
  }
 },
 "nbformat": 4,
 "nbformat_minor": 5
}
